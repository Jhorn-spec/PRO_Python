{
 "cells": [
  {
   "cell_type": "code",
   "execution_count": 2,
   "id": "252dd85e-bcef-4bca-8c22-fd523b6c1047",
   "metadata": {},
   "outputs": [],
   "source": [
    "import pandas as pd\n",
    "import numpy as np\n",
    "\n",
    "# DO NOT CHANGE THE VARIABLE NAMES\n",
    "\n",
    "# Set the precision of our dataframes to one decimal place.\n",
    "pd.set_option('display.precision', 1)\n",
    "\n",
    "# Create a Pandas DataFrame that contains the ratings some users have given to a series of books. \n",
    "# The ratings given are in the range from 1 to 5, with 5 being the best score. \n",
    "# The names of the books, the corresponding authors, and the ratings of each user are given below:\n",
    "\n",
    "books = pd.Series(data = ['Great Expectations', 'Of Mice and Men', 'Romeo and Juliet', 'The Time Machine', 'Alice in Wonderland' ])\n",
    "authors = pd.Series(data = ['Charles Dickens', 'John Steinbeck', 'William Shakespeare', ' H. G. Wells', 'Lewis Carroll' ])\n",
    "\n",
    "# User ratings are in the order of the book titles mentioned above\n",
    "# If a user has not rated all books, Pandas will automatically consider the missing values as NaN.\n",
    "# If a user has mentioned `np.nan` value, then also it means that the user has not yet rated that book.\n",
    "user_1 = pd.Series(data = [3.2, np.nan ,2.5])\n",
    "user_2 = pd.Series(data = [5., 1.3, 4.0, 3.8])\n",
    "user_3 = pd.Series(data = [2.0, 2.3, np.nan, 4])\n",
    "user_4 = pd.Series(data = [4, 3.5, 4, 5, 4.2])"
   ]
  },
  {
   "cell_type": "code",
   "execution_count": 3,
   "id": "f457891c-c946-48f5-8461-2fa1251281bf",
   "metadata": {},
   "outputs": [],
   "source": [
    "# Use the data above to create a Pandas DataFrame that has the following column\n",
    "# labels: 'Author', 'Book Title', 'User 1', 'User 2', 'User 3', 'User 4'. \n",
    "# Let Pandas automatically assign numerical row indices to the DataFrame. \n",
    "\n",
    "# TO DO: Create a dictionary with the data given above\n",
    "dat = None"
   ]
  },
  {
   "cell_type": "code",
   "execution_count": 4,
   "id": "f63ed97c-f751-4889-9d85-6703b8fcb5cb",
   "metadata": {},
   "outputs": [],
   "source": [
    "# TO DO: Create a Pandas DataFrame using the dictionary created above\n",
    "book_ratings = 0"
   ]
  },
  {
   "cell_type": "code",
   "execution_count": 5,
   "id": "0aaeebdd-70d2-498c-b457-88f6979c4f06",
   "metadata": {},
   "outputs": [],
   "source": [
    "# TO DO:\n",
    "# If you created the dictionary correctly you should have a Pandas DataFrame\n",
    "# that has column labels: \n",
    "# 'Author', 'Book Title', 'User 1', 'User 2', 'User 3', 'User 4' \n",
    "# and row indices 0 through 4.\n",
    "\n",
    "# Now replace all the NaN values in your DataFrame with the average rating in\n",
    "# each column. Replace the NaN values in place. \n",
    "# HINT: Use the `pandas.DataFrame.fillna(value, inplace = True)` function for substituting the NaN values. \n",
    "# Write your code below:"
   ]
  },
  {
   "cell_type": "code",
   "execution_count": null,
   "id": "128119b8-21b7-42da-975f-6a69c819749a",
   "metadata": {},
   "outputs": [],
   "source": []
  },
  {
   "cell_type": "code",
   "execution_count": null,
   "id": "2475b290-e628-49bf-bf99-cb5ec82c37b6",
   "metadata": {},
   "outputs": [],
   "source": []
  },
  {
   "cell_type": "markdown",
   "id": "379621f1-3ba9-45ca-a366-f35385edf243",
   "metadata": {
    "jp-MarkdownHeadingCollapsed": true,
    "tags": []
   },
   "source": [
    "## Optional:\n",
    "\n",
    "From the DataFrame above can you now pick all the books that had a rating of 5?\n",
    "\n",
    "Hint - You can do this in just one line of code, by using [pandas.DataFrame.any](https://pandas.pydata.org/pandas-docs/stable/reference/api/pandas.DataFrame.any.html). Try to do it yourself first, you'll find the answer below:"
   ]
  },
  {
   "cell_type": "raw",
   "id": "40f50102-3bc6-4ed9-b0d9-c634a395c6ad",
   "metadata": {},
   "source": [
    "best_rated = book_ratings[(book_ratings == 5).any(axis = 1)]['Book Title'].values"
   ]
  },
  {
   "cell_type": "markdown",
   "id": "953b1f8f-ce0f-4606-81b4-5bc1ec6bd0bd",
   "metadata": {},
   "source": [
    "#### Explanation"
   ]
  },
  {
   "cell_type": "raw",
   "id": "ec53cd46-ab30-4a8c-9aee-84843e95e030",
   "metadata": {},
   "source": [
    "# Step 1 - Highlight the rows containing a value = 5. \n",
    "# This step will replace all values != 5 with NaN in the entire DataFrame. \n",
    "best_rated = book_ratings[(book_ratings == 5)]\n",
    ",[object Object],\n",
    ",[object Object],\n",
    ",[object Object],\n",
    ",[object Object],"
   ]
  },
  {
   "cell_type": "code",
   "execution_count": null,
   "id": "bd61cd9f-d2ab-4c0b-a3e5-cc098bc808bd",
   "metadata": {},
   "outputs": [],
   "source": []
  }
 ],
 "metadata": {
  "kernelspec": {
   "display_name": "Python 3 (ipykernel)",
   "language": "python",
   "name": "python3"
  },
  "language_info": {
   "codemirror_mode": {
    "name": "ipython",
    "version": 3
   },
   "file_extension": ".py",
   "mimetype": "text/x-python",
   "name": "python",
   "nbconvert_exporter": "python",
   "pygments_lexer": "ipython3",
   "version": "3.9.12"
  }
 },
 "nbformat": 4,
 "nbformat_minor": 5
}
