{
 "cells": [
  {
   "cell_type": "code",
   "execution_count": 1,
   "id": "1c9cc445-a2a3-49f1-8f9b-b0953677ad2e",
   "metadata": {},
   "outputs": [],
   "source": [
    "import matplotlib as mat"
   ]
  },
  {
   "cell_type": "code",
   "execution_count": 5,
   "id": "47278aec-7129-46c7-8269-5ec067802c94",
   "metadata": {},
   "outputs": [],
   "source": [
    "from matplotlib import pyplot as plt"
   ]
  },
  {
   "cell_type": "code",
   "execution_count": null,
   "id": "6d9a1d96-ed95-4189-b1d4-4c5b9218556a",
   "metadata": {},
   "outputs": [],
   "source": []
  }
 ],
 "metadata": {
  "kernelspec": {
   "display_name": "Python 3 (ipykernel)",
   "language": "python",
   "name": "python3"
  },
  "language_info": {
   "codemirror_mode": {
    "name": "ipython",
    "version": 3
   },
   "file_extension": ".py",
   "mimetype": "text/x-python",
   "name": "python",
   "nbconvert_exporter": "python",
   "pygments_lexer": "ipython3",
   "version": "3.9.12"
  }
 },
 "nbformat": 4,
 "nbformat_minor": 5
}
