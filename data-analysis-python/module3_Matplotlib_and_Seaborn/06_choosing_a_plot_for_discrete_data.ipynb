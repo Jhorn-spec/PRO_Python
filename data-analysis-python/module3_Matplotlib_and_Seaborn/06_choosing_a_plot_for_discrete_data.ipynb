{
 "cells": [
  {
   "cell_type": "markdown",
   "id": "5e421433-e699-450c-b069-4514a000b9a2",
   "metadata": {},
   "source": [
    "# Choosing a Plot for Discrete Data"
   ]
  },
  {
   "cell_type": "markdown",
   "id": "a438b9a7-34c3-43ee-be62-65eb83dbdf53",
   "metadata": {},
   "source": [
    "If you want to plot a discrete quantitative variable, it is possible to select either a histogram or a bar chart to depict the data.\n",
    "\n",
    "- discrete means non-continuous values. In general, a discrete variable can be assigned to any of the limited (countable) set of values from a given set/range, for example, the number of family members, number of football matches in a tournament, number of departments in a university.\n",
    "- The quantitative term shows that it is the outcome of the measurement of a quantity.\n",
    "\n",
    "The histogram is the most immediate choice since the data is numeric, but there's one particular consideration to make regarding the bin edges. Since data points fall on set values (bar-width), it can help to reduce ambiguity by putting bin edges between the actual values taken by the data."
   ]
  },
  {
   "cell_type": "markdown",
   "id": "2a79dbec-3b5e-45b7-872c-fbcd825364ec",
   "metadata": {},
   "source": [
    "### An example describing the ambiguity\n",
    "For example, assume a given bar falls in a range [10-20], and there is an observation with value 20. This observation will lie on the next bar because the given range [10-20] does not include the upper limit 20. Therefore, your readers may not know that values on bin edges end up in the bin to their right, so this can bring potential confusion when they interpret the plot.\n",
    "\n",
    "Compare the two visualizations of 100 random die rolls below (in `die_rolls`), with bin edges falling on the observation values in the left subplot, and bin edges in between the observation values in the right subplot."
   ]
  },
  {
   "cell_type": "code",
   "execution_count": 1,
   "id": "426516c6-033e-4cbf-b663-6e0d50369d71",
   "metadata": {},
   "outputs": [
    {
     "data": {
      "text/html": [
       "<div>\n",
       "<style scoped>\n",
       "    .dataframe tbody tr th:only-of-type {\n",
       "        vertical-align: middle;\n",
       "    }\n",
       "\n",
       "    .dataframe tbody tr th {\n",
       "        vertical-align: top;\n",
       "    }\n",
       "\n",
       "    .dataframe thead th {\n",
       "        text-align: right;\n",
       "    }\n",
       "</style>\n",
       "<table border=\"1\" class=\"dataframe\">\n",
       "  <thead>\n",
       "    <tr style=\"text-align: right;\">\n",
       "      <th></th>\n",
       "      <th>Dice</th>\n",
       "      <th>Trial 1</th>\n",
       "      <th>Trial 2</th>\n",
       "      <th>Sum</th>\n",
       "    </tr>\n",
       "  </thead>\n",
       "  <tbody>\n",
       "    <tr>\n",
       "      <th>0</th>\n",
       "      <td>1</td>\n",
       "      <td>4</td>\n",
       "      <td>1</td>\n",
       "      <td>5</td>\n",
       "    </tr>\n",
       "    <tr>\n",
       "      <th>1</th>\n",
       "      <td>2</td>\n",
       "      <td>4</td>\n",
       "      <td>5</td>\n",
       "      <td>9</td>\n",
       "    </tr>\n",
       "    <tr>\n",
       "      <th>2</th>\n",
       "      <td>3</td>\n",
       "      <td>2</td>\n",
       "      <td>6</td>\n",
       "      <td>8</td>\n",
       "    </tr>\n",
       "    <tr>\n",
       "      <th>3</th>\n",
       "      <td>4</td>\n",
       "      <td>6</td>\n",
       "      <td>3</td>\n",
       "      <td>9</td>\n",
       "    </tr>\n",
       "    <tr>\n",
       "      <th>4</th>\n",
       "      <td>5</td>\n",
       "      <td>3</td>\n",
       "      <td>6</td>\n",
       "      <td>9</td>\n",
       "    </tr>\n",
       "    <tr>\n",
       "      <th>5</th>\n",
       "      <td>6</td>\n",
       "      <td>6</td>\n",
       "      <td>6</td>\n",
       "      <td>12</td>\n",
       "    </tr>\n",
       "    <tr>\n",
       "      <th>6</th>\n",
       "      <td>7</td>\n",
       "      <td>3</td>\n",
       "      <td>3</td>\n",
       "      <td>6</td>\n",
       "    </tr>\n",
       "    <tr>\n",
       "      <th>7</th>\n",
       "      <td>8</td>\n",
       "      <td>3</td>\n",
       "      <td>2</td>\n",
       "      <td>5</td>\n",
       "    </tr>\n",
       "    <tr>\n",
       "      <th>8</th>\n",
       "      <td>9</td>\n",
       "      <td>2</td>\n",
       "      <td>6</td>\n",
       "      <td>8</td>\n",
       "    </tr>\n",
       "    <tr>\n",
       "      <th>9</th>\n",
       "      <td>10</td>\n",
       "      <td>6</td>\n",
       "      <td>6</td>\n",
       "      <td>12</td>\n",
       "    </tr>\n",
       "  </tbody>\n",
       "</table>\n",
       "</div>"
      ],
      "text/plain": [
       "   Dice  Trial 1  Trial 2  Sum\n",
       "0     1        4        1    5\n",
       "1     2        4        5    9\n",
       "2     3        2        6    8\n",
       "3     4        6        3    9\n",
       "4     5        3        6    9\n",
       "5     6        6        6   12\n",
       "6     7        3        3    6\n",
       "7     8        3        2    5\n",
       "8     9        2        6    8\n",
       "9    10        6        6   12"
      ]
     },
     "execution_count": 1,
     "metadata": {},
     "output_type": "execute_result"
    }
   ],
   "source": [
    "import numpy as np\n",
    "import pandas as pd\n",
    "import matplotlib.pyplot as plt\n",
    "import seaborn as sb\n",
    "%matplotlib inline\n",
    "\n",
    "die_rolls = pd.read_csv('data/die-rolls.csv')\n",
    "\n",
    "# A fair dice has six-faces having numbers [1-6]. \n",
    "# There are 100 dices, and two trials were conducted.\n",
    "# In each trial, all 100 dices were rolled down, and the outcome [1-6] was recorded.\n",
    "# The `Sum` column represents the sum of the outcomes in the two trials, for each given dice. \n",
    "die_rolls.head(10)"
   ]
  },
  {
   "cell_type": "markdown",
   "id": "1735ab98-e965-4042-b47d-1f5bc9d9c51b",
   "metadata": {},
   "source": [
    "## Example 1. Shifting the edges of the bars can remove ambiguity in the case of Discrete data"
   ]
  },
  {
   "cell_type": "code",
   "execution_count": 3,
   "id": "bb2360f9-b73a-42d8-8ae1-0437e2854bc0",
   "metadata": {},
   "outputs": [
    {
     "data": {
      "image/png": "[encoded data removed]",
      "text/plain": [
       "<Figure size 1440x360 with 2 Axes>"
      ]
     },
     "metadata": {
      "needs_background": "light"
     },
     "output_type": "display_data"
    }
   ],
   "source": [
    "plt.figure(figsize = [20, 5])\n",
    "# Histogram on the left, bin edges on integers\n",
    "plt.subplot(1,2,1)\n",
    "bin_edges = np.arange(2, 12+1.1, 1) # note `+1.1`, see below\n",
    "plt.hist(data=die_rolls, x='Sum', bins = bin_edges);\n",
    "plt.xticks(np.arange(2, 12+1, 1));\n",
    "\n",
    "# Histogram on the right, bin edges between integers\n",
    "plt.subplot(1,2,2)\n",
    "bin_edges = np.arange(1.5, 12.5+1, 1);\n",
    "plt.hist(data=die_rolls, x='Sum', bins = bin_edges);\n",
    "plt.xticks(np.arange(2, 12+1, 1));"
   ]
  },
  {
   "cell_type": "markdown",
   "id": "fb92f4e4-de47-45c4-a579-38d4c1a27ecd",
   "metadata": {},
   "source": [
    "You'll notice for the left histogram, in a deviation from the examples that have come before, I've added 1.1 to the max value (12) for setting the bin edges, rather than just the desired bin width of 1. Recall that data that is equal to the rightmost bin edge gets lumped in to the last bin. This presents a potential problem in perception when a lot of data points take the maximum value, and so is especially relevant when the data takes on discrete values. The 1.1 adds an additional bin to the end to store the die rolls of value 12 alone, to avoid having the last bar catch both 11 and 12.\n",
    "\n",
    "Alternatively to the histogram, consider if a bar chart with non-connected bins might serve your purposes better. The plot below takes the code from before, but adds the \"rwidth\" parameter to set the proportion of the bin widths that will be filled by each histogram bar."
   ]
  },
  {
   "cell_type": "markdown",
   "id": "e469a2b9-0a36-463c-ac0e-bab922eb0e6b",
   "metadata": {},
   "source": [
    "## Example 2. Making gaps between individual bars"
   ]
  },
  {
   "cell_type": "code",
   "execution_count": 7,
   "id": "54424d87-bdf5-4e4f-9095-4102de843a7f",
   "metadata": {},
   "outputs": [
    {
     "data": {
      "image/png": "[encoded data removed]",
      "text/plain": [
       "<Figure size 432x288 with 1 Axes>"
      ]
     },
     "metadata": {
      "needs_background": "light"
     },
     "output_type": "display_data"
    }
   ],
   "source": [
    "bin_edges = np.arange(1.5, 12.5+1, 1)\n",
    "plt.hist(data=die_rolls, x='Sum', bins = bin_edges, rwidth = 0.7)\n",
    "plt.xticks(np.arange(2, 12+1, 1));"
   ]
  },
  {
   "cell_type": "markdown",
   "id": "232b08ef-4560-4436-92ac-9b516d4b67ae",
   "metadata": {},
   "source": [
    "With \"rwidth\" set to 0.7, the bars will take up 70% of the space allocated by each bin, with 30% of the space left empty. This changes the default display of the histogram (which you could think of as \"rwidth = 1\") into a bar chart."
   ]
  },
  {
   "cell_type": "markdown",
   "id": "21152d95-1ef6-486e-ae22-db91bb8309d0",
   "metadata": {},
   "source": [
    "By adding gaps between bars, you emphasize the fact that the data is discrete in value. On the other hand, plotting your quantitative data in this manner might cause it to be interpreted as ordinal-type data, which can have an effect on overall perception.\n",
    "\n",
    "For continuous numeric data, you should not make use of the \"rwidth\" parameter, since the gaps imply discreteness of value. As another caution, it might be tempting to use seaborn's `countplot` function to plot the distribution of a discrete numeric variable as bars. Be careful about doing this, since each unique numeric value will get a bar, regardless of the spacing in values between bars. (For example, if the unique values were {1, 2, 4, 5}, missing 3, `countplot` would only plot four bars, with the bars for 2 and 4 right next to one another.) Also, even if your data is technically discrete numeric, you should probably not consider either of the variants depicted on this page unless the number of unique values is small enough to allow for the half-unit shift or discrete bars to be interpretable. If you have a large number of unique values over a large enough range, it's better to stick with the standard histogram than risk interpretability issues.\n",
    "\n",
    "While you might justify plotting discrete numeric data using a bar chart, you’ll be less apt to justify the opposite: plotting ordinal data as a histogram. The space between bars in a bar chart helps to remind the reader that values are not contiguous in an ‘interval’-type fashion: only that there is an order in levels. With that space removed as in a histogram, it's harder to remember this important bit of interpretation."
   ]
  },
  {
   "cell_type": "code",
   "execution_count": null,
   "id": "a5bdd637-e7bd-4144-84e1-00e7a1105fcd",
   "metadata": {},
   "outputs": [],
   "source": []
  },
  {
   "cell_type": "markdown",
   "id": "1f0337b4-7284-484f-b42c-85469b020f88",
   "metadata": {},
   "source": [
    "# Descriptive Statistics, Outliers and Axis Limits"
   ]
  },
  {
   "cell_type": "markdown",
   "id": "2f2f0af9-8ea9-4cda-9424-5ba13bd995cd",
   "metadata": {},
   "source": [
    "As you create your plots and perform your exploration, make sure that you pay attention to what the plots tell you that go beyond just the basic descriptive statistics. Note any aspects of the data like the number of modes and skew, and note the presence of outliers in the data for further investigation.\n",
    "\n",
    "Related to the latter point, you might need to change the limits or scale of what is plotted to take a closer look at the underlying patterns in the data. Let's see a few examples."
   ]
  },
  {
   "cell_type": "markdown",
   "id": "15321f8a-604e-447e-addd-96427d919ed8",
   "metadata": {},
   "source": [
    "## Example 1. Plot the histogram from the data having a skewed distribution of values"
   ]
  },
  {
   "cell_type": "code",
   "execution_count": 9,
   "id": "570a658b-453d-4e94-bde9-225593dac8f2",
   "metadata": {},
   "outputs": [
    {
     "data": {
      "image/png": "[encoded data removed]",
      "text/plain": [
       "<Figure size 432x288 with 1 Axes>"
      ]
     },
     "metadata": {
      "needs_background": "light"
     },
     "output_type": "display_data"
    }
   ],
   "source": [
    "# TO DO: Necessary import\n",
    "\n",
    "# Load the data, and see the height column\n",
    "pokemon = pd.read_csv('data/pokemon.csv')\n",
    "pokemon.head(10)\n",
    "\n",
    "# Get the ticks for bins between [0-15], at an interval of 0.5\n",
    "bins = np.arange(0, pokemon['height'].max()+0.5, 0.5)\n",
    "\n",
    "# Plot the histogram for the height column\n",
    "plt.hist(data=pokemon, x='height', bins=bins);\n"
   ]
  },
  {
   "cell_type": "code",
   "execution_count": 11,
   "id": "462f931b-c9c1-4534-90a3-57f7d7926994",
   "metadata": {
    "jupyter": {
     "source_hidden": true
    },
    "tags": []
   },
   "outputs": [
    {
     "data": {
      "image/png": "[encoded data removed]",
      "text/plain": [
       "<Figure size 432x288 with 1 Axes>"
      ]
     },
     "metadata": {
      "needs_background": "light"
     },
     "output_type": "display_data"
    }
   ],
   "source": [
    "# Necessary import\n",
    "import numpy as np\n",
    "import matplotlib.pyplot as plt\n",
    "import pandas as pd\n",
    "%matplotlib inline\n",
    "\n",
    "# Load the data, and see the height column\n",
    "pokemon = pd.read_csv('data/pokemon.csv')\n",
    "pokemon.head(10)\n",
    "\n",
    "# Get the ticks for bins between [0-15], at an interval of 0.5\n",
    "bins = np.arange(0, pokemon['height'].max()+0.5, 0.5)\n",
    "\n",
    "# Plot the histogram for the height column\n",
    "plt.hist(data=pokemon, x='height', bins=bins);\n"
   ]
  },
  {
   "cell_type": "markdown",
   "id": "da32e5c3-166f-4497-92e2-447cbc661e7b",
   "metadata": {},
   "source": [
    "In order to change a histogram's axis limits, you can add a Matplotlib [xlim()](https://matplotlib.org/stable/api/_as_gen/matplotlib.pyplot.xlim.html) call to your code. The function takes a tuple of two numbers specifying the upper and lower bounds of the x-axis range. See the example below."
   ]
  },
  {
   "cell_type": "markdown",
   "id": "e2f6ba71-4cb8-477b-b787-439e13408385",
   "metadata": {},
   "source": [
    "## Example 2. Plot the histogram with a changed axis limit."
   ]
  },
  {
   "cell_type": "code",
   "execution_count": 19,
   "id": "88133bb2-51d0-4202-8a4b-2f78fb9bb9aa",
   "metadata": {},
   "outputs": [
    {
     "data": {
      "image/png": "[encoded data removed]",
      "text/plain": [
       "<Figure size 432x288 with 1 Axes>"
      ]
     },
     "metadata": {
      "needs_background": "light"
     },
     "output_type": "display_data"
    }
   ],
   "source": [
    "# Get the ticks for bins between [0-15], at an interval of 0.5\n",
    "bins = np.arange(0, pokemon['height'].max()+0.2, 0.2)\n",
    "plt.hist(data=pokemon, x='height', bins=bins);\n",
    "\n",
    "# Set the upper and lower bounds of the bins that are displayed in the plot\n",
    "# Refer here for more information - https://matplotlib.org/3.1.1/api/_as_gen/matplotlib.pyplot.xlim.html\n",
    "# The argument represent a tuple of the new x-axis limits.\n",
    "plt.xlim((0,6));"
   ]
  },
  {
   "cell_type": "markdown",
   "id": "754bb37e-29c6-4aba-88a6-657891fee873",
   "metadata": {},
   "source": [
    "In the generic example above, we might be interested in comparing patterns in other variables between data points that take values less than 6 to those that take values greater than 6. For anything that is concentrated on the bulk of the data in the former group (< 6), the use of axis limits can allow focusing on data points in that range without needing to go through the creation of new DataFrame filtering out the data points in the latter group (> 6)."
   ]
  },
  {
   "cell_type": "code",
   "execution_count": null,
   "id": "2edfd8eb-71b1-4f5b-acce-095ba1f70f8c",
   "metadata": {},
   "outputs": [],
   "source": []
  },
  {
   "cell_type": "markdown",
   "id": "738b8afd-2b2c-4cb5-9ef2-173ff89c713a",
   "metadata": {},
   "source": [
    "#### TO DO: Plot the above two graphs in a single figure of size 20 x 5 inches, side-by-side.\n",
    "**Hint** - Use the steps below:\n",
    "\n",
    "1. Define the figure size, `using matplotlib.pyplot.figure(figsize = [float, float])`.\n",
    "2. Add a subplot using `matplotlib.pyplot.subplot(int, int, index)` for the left-graph to the current figure. Then, define the left-graph.\n",
    "3. Similarly, add a subplot for the right-graph to the current figure. Then, define the right-graph.\n",
    "\n",
    "The expected output is shown below:"
   ]
  },
  {
   "cell_type": "code",
   "execution_count": 17,
   "id": "fb3e984b-fa8c-4322-9d7d-76c434b7fc94",
   "metadata": {
    "jupyter": {
     "source_hidden": true
    },
    "tags": []
   },
   "outputs": [
    {
     "data": {
      "image/png": "[encoded data removed]",
      "text/plain": [
       "<Figure size 1440x360 with 2 Axes>"
      ]
     },
     "metadata": {
      "needs_background": "light"
     },
     "output_type": "display_data"
    }
   ],
   "source": [
    "plt.figure(figsize=[20,5])\n",
    "\n",
    "plt.subplot(1,2,1)\n",
    "bins = np.arange(0, pokemon['height'].max()+0.5, 0.5)\n",
    "plt.hist(data=pokemon, x='height', bins=bins);\n",
    "\n",
    "plt.subplot(1,2,2)\n",
    "bins = np.arange(0, pokemon['height'].max()+0.2, 0.2)\n",
    "plt.hist(data=pokemon, x='height', bins=bins);\n",
    "plt.xlim((0,6));"
   ]
  },
  {
   "cell_type": "code",
   "execution_count": null,
   "id": "2a0af68b-790f-463d-aa7f-7a93f4d93073",
   "metadata": {},
   "outputs": [],
   "source": []
  }
 ],
 "metadata": {
  "kernelspec": {
   "display_name": "Python 3 (ipykernel)",
   "language": "python",
   "name": "python3"
  },
  "language_info": {
   "codemirror_mode": {
    "name": "ipython",
    "version": 3
   },
   "file_extension": ".py",
   "mimetype": "text/x-python",
   "name": "python",
   "nbconvert_exporter": "python",
   "pygments_lexer": "ipython3",
   "version": "3.9.12"
  }
 },
 "nbformat": 4,
 "nbformat_minor": 5
}
