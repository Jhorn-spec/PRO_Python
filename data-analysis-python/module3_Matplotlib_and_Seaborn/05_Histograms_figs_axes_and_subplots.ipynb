{
 "cells": [
  {
   "cell_type": "markdown",
   "id": "fd6d397b-dbd7-4a68-8525-d3e4e0140318",
   "metadata": {},
   "source": [
    "A **histogram** is used to plot the distribution of a numeric variable. It's the quantitative version of the bar chart. However, rather than plotting one bar for each unique numeric value, values are grouped into continuous bins, and one bar for each bin is plotted to depict the number. You can use either Matplotlib or Seaborn to plot the histograms. There is a mild variation in the specifics, such as plotting the Gaussian-estimation line along with bars in Seaborn's displot(), and the arguments that you can use in either case."
   ]
  },
  {
   "cell_type": "markdown",
   "id": "36d7b2e2-a234-4fac-922a-8d6ea44c2357",
   "metadata": {},
   "source": [
    "## Matplotlib.pyplot.hist()\n",
    "\n",
    "You can use the default settings for matplotlib's [hist()](https://matplotlib.org/stable/api/_as_gen/matplotlib.pyplot.hist.html) function to plot a histogram with 10 bins:\n",
    "\n",
    "## Example 1. Plot a default histogram"
   ]
  },
  {
   "cell_type": "code",
   "execution_count": 2,
   "id": "dfed038f-ff9b-4e9d-b88f-f367d2225880",
   "metadata": {},
   "outputs": [
    {
     "name": "stdout",
     "output_type": "stream",
     "text": [
      "(807, 14)\n"
     ]
    },
    {
     "data": {
      "text/html": [
       "<div>\n",
       "<style scoped>\n",
       "    .dataframe tbody tr th:only-of-type {\n",
       "        vertical-align: middle;\n",
       "    }\n",
       "\n",
       "    .dataframe tbody tr th {\n",
       "        vertical-align: top;\n",
       "    }\n",
       "\n",
       "    .dataframe thead th {\n",
       "        text-align: right;\n",
       "    }\n",
       "</style>\n",
       "<table border=\"1\" class=\"dataframe\">\n",
       "  <thead>\n",
       "    <tr style=\"text-align: right;\">\n",
       "      <th></th>\n",
       "      <th>id</th>\n",
       "      <th>species</th>\n",
       "      <th>generation_id</th>\n",
       "      <th>height</th>\n",
       "      <th>weight</th>\n",
       "      <th>base_experience</th>\n",
       "      <th>type_1</th>\n",
       "      <th>type_2</th>\n",
       "      <th>hp</th>\n",
       "      <th>attack</th>\n",
       "      <th>defense</th>\n",
       "      <th>speed</th>\n",
       "      <th>special-attack</th>\n",
       "      <th>special-defense</th>\n",
       "    </tr>\n",
       "  </thead>\n",
       "  <tbody>\n",
       "    <tr>\n",
       "      <th>0</th>\n",
       "      <td>1</td>\n",
       "      <td>bulbasaur</td>\n",
       "      <td>1</td>\n",
       "      <td>0.7</td>\n",
       "      <td>6.9</td>\n",
       "      <td>64</td>\n",
       "      <td>grass</td>\n",
       "      <td>poison</td>\n",
       "      <td>45</td>\n",
       "      <td>49</td>\n",
       "      <td>49</td>\n",
       "      <td>45</td>\n",
       "      <td>65</td>\n",
       "      <td>65</td>\n",
       "    </tr>\n",
       "    <tr>\n",
       "      <th>1</th>\n",
       "      <td>2</td>\n",
       "      <td>ivysaur</td>\n",
       "      <td>1</td>\n",
       "      <td>1.0</td>\n",
       "      <td>13.0</td>\n",
       "      <td>142</td>\n",
       "      <td>grass</td>\n",
       "      <td>poison</td>\n",
       "      <td>60</td>\n",
       "      <td>62</td>\n",
       "      <td>63</td>\n",
       "      <td>60</td>\n",
       "      <td>80</td>\n",
       "      <td>80</td>\n",
       "    </tr>\n",
       "    <tr>\n",
       "      <th>2</th>\n",
       "      <td>3</td>\n",
       "      <td>venusaur</td>\n",
       "      <td>1</td>\n",
       "      <td>2.0</td>\n",
       "      <td>100.0</td>\n",
       "      <td>236</td>\n",
       "      <td>grass</td>\n",
       "      <td>poison</td>\n",
       "      <td>80</td>\n",
       "      <td>82</td>\n",
       "      <td>83</td>\n",
       "      <td>80</td>\n",
       "      <td>100</td>\n",
       "      <td>100</td>\n",
       "    </tr>\n",
       "    <tr>\n",
       "      <th>3</th>\n",
       "      <td>4</td>\n",
       "      <td>charmander</td>\n",
       "      <td>1</td>\n",
       "      <td>0.6</td>\n",
       "      <td>8.5</td>\n",
       "      <td>62</td>\n",
       "      <td>fire</td>\n",
       "      <td>NaN</td>\n",
       "      <td>39</td>\n",
       "      <td>52</td>\n",
       "      <td>43</td>\n",
       "      <td>65</td>\n",
       "      <td>60</td>\n",
       "      <td>50</td>\n",
       "    </tr>\n",
       "    <tr>\n",
       "      <th>4</th>\n",
       "      <td>5</td>\n",
       "      <td>charmeleon</td>\n",
       "      <td>1</td>\n",
       "      <td>1.1</td>\n",
       "      <td>19.0</td>\n",
       "      <td>142</td>\n",
       "      <td>fire</td>\n",
       "      <td>NaN</td>\n",
       "      <td>58</td>\n",
       "      <td>64</td>\n",
       "      <td>58</td>\n",
       "      <td>80</td>\n",
       "      <td>80</td>\n",
       "      <td>65</td>\n",
       "    </tr>\n",
       "    <tr>\n",
       "      <th>5</th>\n",
       "      <td>6</td>\n",
       "      <td>charizard</td>\n",
       "      <td>1</td>\n",
       "      <td>1.7</td>\n",
       "      <td>90.5</td>\n",
       "      <td>240</td>\n",
       "      <td>fire</td>\n",
       "      <td>flying</td>\n",
       "      <td>78</td>\n",
       "      <td>84</td>\n",
       "      <td>78</td>\n",
       "      <td>100</td>\n",
       "      <td>109</td>\n",
       "      <td>85</td>\n",
       "    </tr>\n",
       "    <tr>\n",
       "      <th>6</th>\n",
       "      <td>7</td>\n",
       "      <td>squirtle</td>\n",
       "      <td>1</td>\n",
       "      <td>0.5</td>\n",
       "      <td>9.0</td>\n",
       "      <td>63</td>\n",
       "      <td>water</td>\n",
       "      <td>NaN</td>\n",
       "      <td>44</td>\n",
       "      <td>48</td>\n",
       "      <td>65</td>\n",
       "      <td>43</td>\n",
       "      <td>50</td>\n",
       "      <td>64</td>\n",
       "    </tr>\n",
       "    <tr>\n",
       "      <th>7</th>\n",
       "      <td>8</td>\n",
       "      <td>wartortle</td>\n",
       "      <td>1</td>\n",
       "      <td>1.0</td>\n",
       "      <td>22.5</td>\n",
       "      <td>142</td>\n",
       "      <td>water</td>\n",
       "      <td>NaN</td>\n",
       "      <td>59</td>\n",
       "      <td>63</td>\n",
       "      <td>80</td>\n",
       "      <td>58</td>\n",
       "      <td>65</td>\n",
       "      <td>80</td>\n",
       "    </tr>\n",
       "    <tr>\n",
       "      <th>8</th>\n",
       "      <td>9</td>\n",
       "      <td>blastoise</td>\n",
       "      <td>1</td>\n",
       "      <td>1.6</td>\n",
       "      <td>85.5</td>\n",
       "      <td>239</td>\n",
       "      <td>water</td>\n",
       "      <td>NaN</td>\n",
       "      <td>79</td>\n",
       "      <td>83</td>\n",
       "      <td>100</td>\n",
       "      <td>78</td>\n",
       "      <td>85</td>\n",
       "      <td>105</td>\n",
       "    </tr>\n",
       "    <tr>\n",
       "      <th>9</th>\n",
       "      <td>10</td>\n",
       "      <td>caterpie</td>\n",
       "      <td>1</td>\n",
       "      <td>0.3</td>\n",
       "      <td>2.9</td>\n",
       "      <td>39</td>\n",
       "      <td>bug</td>\n",
       "      <td>NaN</td>\n",
       "      <td>45</td>\n",
       "      <td>30</td>\n",
       "      <td>35</td>\n",
       "      <td>45</td>\n",
       "      <td>20</td>\n",
       "      <td>20</td>\n",
       "    </tr>\n",
       "  </tbody>\n",
       "</table>\n",
       "</div>"
      ],
      "text/plain": [
       "   id     species  generation_id  height  weight  base_experience type_1  \\\n",
       "0   1   bulbasaur              1     0.7     6.9               64  grass   \n",
       "1   2     ivysaur              1     1.0    13.0              142  grass   \n",
       "2   3    venusaur              1     2.0   100.0              236  grass   \n",
       "3   4  charmander              1     0.6     8.5               62   fire   \n",
       "4   5  charmeleon              1     1.1    19.0              142   fire   \n",
       "5   6   charizard              1     1.7    90.5              240   fire   \n",
       "6   7    squirtle              1     0.5     9.0               63  water   \n",
       "7   8   wartortle              1     1.0    22.5              142  water   \n",
       "8   9   blastoise              1     1.6    85.5              239  water   \n",
       "9  10    caterpie              1     0.3     2.9               39    bug   \n",
       "\n",
       "   type_2  hp  attack  defense  speed  special-attack  special-defense  \n",
       "0  poison  45      49       49     45              65               65  \n",
       "1  poison  60      62       63     60              80               80  \n",
       "2  poison  80      82       83     80             100              100  \n",
       "3     NaN  39      52       43     65              60               50  \n",
       "4     NaN  58      64       58     80              80               65  \n",
       "5  flying  78      84       78    100             109               85  \n",
       "6     NaN  44      48       65     43              50               64  \n",
       "7     NaN  59      63       80     58              65               80  \n",
       "8     NaN  79      83      100     78              85              105  \n",
       "9     NaN  45      30       35     45              20               20  "
      ]
     },
     "execution_count": 2,
     "metadata": {},
     "output_type": "execute_result"
    }
   ],
   "source": [
    "import numpy as np\n",
    "import pandas as pd\n",
    "import matplotlib.pyplot as plt\n",
    "import seaborn as sns\n",
    "%matplotlib inline\n",
    "\n",
    "pokemon = pd.read_csv('data/pokemon.csv')\n",
    "print(pokemon.shape)\n",
    "pokemon.head(10)"
   ]
  },
  {
   "cell_type": "code",
   "execution_count": 3,
   "id": "d65b92e6-1786-4fdd-9928-f8d37e334758",
   "metadata": {},
   "outputs": [
    {
     "data": {
      "text/plain": [
       "(array([ 31.,  93., 163., 159., 128., 115.,  81.,  26.,   6.,   5.]),\n",
       " array([  5. ,  20.5,  36. ,  51.5,  67. ,  82.5,  98. , 113.5, 129. ,\n",
       "        144.5, 160. ]),\n",
       " <BarContainer object of 10 artists>)"
      ]
     },
     "execution_count": 3,
     "metadata": {},
     "output_type": "execute_result"
    },
    {
     "data": {
      "image/png": "[encoded data removed]",
      "text/plain": [
       "<Figure size 432x288 with 1 Axes>"
      ]
     },
     "metadata": {
      "needs_background": "light"
     },
     "output_type": "display_data"
    }
   ],
   "source": [
    "# We have intentionally not put a semicolon at the end of the statement below to see the bar-width\n",
    "plt.hist(data = pokemon, x = 'speed')"
   ]
  },
  {
   "cell_type": "markdown",
   "id": "b03e3711-dcad-45a9-9591-bf676f93483d",
   "metadata": {},
   "source": [
    "You can see a non-uniform distribution of data points in different bins.\n",
    "\n",
    "Overall, a generally bimodal distribution is observed (one with two peaks or humps). The direct adjacency of the bars in the histogram, in contrast to the separated bars in a bar chart, emphasizes the fact that the data takes on a continuous range of values. When a data value is on a bin edge, it is counted in the bin to its right. The exception is the rightmost bin edge, which places data values equal to the uppermost limit into the right-most bin (to the upper limit's left).\n",
    "\n",
    "By default, the `hist` function divides the data into 10 bins, based on the range of values taken. In almost every case, we will want to change these settings. Usually, having only ten bins is too few to really understand the distribution of the data. And the default tick marks are often not on nice, 'round' values that make the ranges taken by each bin easy to interpret.\n",
    "\n",
    "Wouldn't it be better if I said \"between 0 and 2.5\" instead of \"between about 0 and 2.5\", and \"from 2.5 to 5\" instead of \"from about 2.5 to 5\" above?\n",
    "\n",
    "You can use descriptive statistics (e.g. via **[dataframe['column'].describe()](https://pandas.pydata.org/pandas-docs/stable/reference/api/pandas.Series.describe.html)** to gauge what minimum and maximum bin limits might be appropriate for the plot. These bin edges can be set using numpy's arange(opens in a new tab) function:\n",
    "\n",
    "## Example 2. Histogram with fixed number of bins"
   ]
  },
  {
   "cell_type": "code",
   "execution_count": 6,
   "id": "5ececc61-3930-47ad-ad0b-dfc6f1e7d3b1",
   "metadata": {},
   "outputs": [
    {
     "data": {
      "image/png": "[encoded data removed]",
      "text/plain": [
       "<Figure size 432x288 with 1 Axes>"
      ]
     },
     "metadata": {
      "needs_background": "light"
     },
     "output_type": "display_data"
    }
   ],
   "source": [
    "plt.hist(data=pokemon, x='speed', bins=20);\n",
    "plt.xlabel('A histogram with 20 bins');"
   ]
  },
  {
   "cell_type": "markdown",
   "id": "ada0c777-d627-43d9-b1a1-3ab76bfd3ca5",
   "metadata": {},
   "source": [
    "## Example 3. Histogram with dynamic number of bins"
   ]
  },
  {
   "cell_type": "code",
   "execution_count": 5,
   "id": "90d7c21e-303b-472e-b504-8940a9b5d3e2",
   "metadata": {},
   "outputs": [
    {
     "data": {
      "image/png": "[encoded data removed]",
      "text/plain": [
       "<Figure size 432x288 with 1 Axes>"
      ]
     },
     "metadata": {
      "needs_background": "light"
     },
     "output_type": "display_data"
    }
   ],
   "source": [
    "bins = np.arange(0, pokemon['speed'].max()+5, 5)\n",
    "plt.hist(data=pokemon, x='speed', bins=bins);\n",
    "plt.xlabel('A histogram with a dynamic number of bins, wach with a step-size of 5');"
   ]
  },
  {
   "cell_type": "markdown",
   "id": "c583fef3-7041-4978-99f8-0e12480c04d6",
   "metadata": {},
   "source": [
    "## Alternative Approach - Seaborn's displot()\n",
    "\n",
    "This function can also plot histograms, as similar to the `pyploy.hist()` function, and is integrated with other univariate plotting functions. This is in contrast to our ability to specify a data source and column as separate arguments, like we've seen with and `countplot` and `hist`.\n",
    "\n",
    "The basic syntax is:\n",
    "`seaborn.distplot(Series, bins, kde, hist_kws)`\n",
    "\n",
    "There are many other arguments that you can explore in the [syntax definition](https://seaborn.pydata.org/generated/seaborn.distplot.html)."
   ]
  },
  {
   "cell_type": "markdown",
   "id": "704217da-4694-40c8-b16d-97916feba06a",
   "metadata": {},
   "source": [
    "## Example 4. Plot the similar histogram with Seaborn's distplot()"
   ]
  },
  {
   "cell_type": "code",
   "execution_count": 8,
   "id": "4ee4ca35-0ab4-4d0f-8123-2d23c62c62fa",
   "metadata": {},
   "outputs": [
    {
     "data": {
      "text/plain": [
       "<AxesSubplot:xlabel='speed', ylabel='Density'>"
      ]
     },
     "execution_count": 8,
     "metadata": {},
     "output_type": "execute_result"
    },
    {
     "data": {
      "image/png": "[encoded data removed]",
      "text/plain": [
       "<Figure size 432x288 with 1 Axes>"
      ]
     },
     "metadata": {
      "needs_background": "light"
     },
     "output_type": "display_data"
    }
   ],
   "source": [
    "sns.distplot(pokemon['speed'])"
   ]
  },
  {
   "cell_type": "code",
   "execution_count": 9,
   "id": "17316aa4-c695-4341-afbc-694ece997c1a",
   "metadata": {},
   "outputs": [
    {
     "name": "stderr",
     "output_type": "stream",
     "text": [
      "C:\\Users\\biodu\\anaconda3\\lib\\site-packages\\seaborn\\distributions.py:2619: FutureWarning: `distplot` is a deprecated function and will be removed in a future version. Please adapt your code to use either `displot` (a figure-level function with similar flexibility) or `histplot` (an axes-level function for histograms).\n",
      "  warnings.warn(msg, FutureWarning)\n"
     ]
    },
    {
     "data": {
      "text/plain": [
       "<AxesSubplot:xlabel='speed'>"
      ]
     },
     "execution_count": 9,
     "metadata": {},
     "output_type": "execute_result"
    },
    {
     "data": {
      "image/png": "[encoded data removed]",
      "text/plain": [
       "<Figure size 432x288 with 1 Axes>"
      ]
     },
     "metadata": {
      "needs_background": "light"
     },
     "output_type": "display_data"
    }
   ],
   "source": [
    "# Set the argument `kde=False` to remove the estimate-line representing the Gaussian kernel density estimate.\n",
    "sns.distplot(pokemon['speed'], kde=False)"
   ]
  },
  {
   "cell_type": "markdown",
   "id": "7cbd7c64-569d-4ace-9665-5c2487c48762",
   "metadata": {},
   "source": [
    "## Plot two histograms side-by-side\n",
    "\n",
    "When creating histograms, it's useful to play around with different bin widths to see what represents the data best. Too many bins, and you may see too much noise that interferes with the identification of the underlying signal. Too few bins, and you may not be able to see the true signal in the first place.\n",
    "\n",
    "Let's see a new example demonstrating a few new functions, `pyplot.subplot()` and `pyplot.figure()`. *We will learn more in the upcoming concepts.*"
   ]
  },
  {
   "cell_type": "markdown",
   "id": "09f3f6ae-e774-48c6-8821-5d5b33c76869",
   "metadata": {},
   "source": [
    "## Example 5. Plot two histograms side-by-side"
   ]
  },
  {
   "cell_type": "code",
   "execution_count": 12,
   "id": "fb055a97-9256-41c1-9c10-cfb6e7596f89",
   "metadata": {},
   "outputs": [
    {
     "data": {
      "image/png": "[encoded data removed]",
      "text/plain": [
       "<Figure size 1440x360 with 2 Axes>"
      ]
     },
     "metadata": {
      "needs_background": "light"
     },
     "output_type": "display_data"
    }
   ],
   "source": [
    "# Resize the chart, and have two plots side-by-side\n",
    "# Set a larger figure size for subplots\n",
    "plt.figure(figsize = [20, 5]) \n",
    "\n",
    "# histogram on left, example of too-large bin size\n",
    "# 1 row, 2 cols, subplot 1\n",
    "plt.subplot(1, 2, 1) \n",
    "bins = np.arange(0, pokemon['speed'].max()+4, 4)\n",
    "plt.hist(data = pokemon, x = 'speed', bins = bins);\n",
    "\n",
    "# histogram on right, example of too-small bin size\n",
    "plt.subplot(1, 2, 2) # 1 row, 2 cols, subplot 2\n",
    "bins = np.arange(0, pokemon['speed'].max()+1/4, 1/4)\n",
    "plt.hist(data = pokemon, x = 'speed', bins = bins);"
   ]
  },
  {
   "cell_type": "markdown",
   "id": "bd5c45fd-f13d-495a-963e-c6b10f3ea392",
   "metadata": {},
   "source": [
    "This example puts two plots side by side through use of the [`subplot`](https://matplotlib.org/api/_as_gen/matplotlib.pyplot.subplot.html) function, whose arguments specify the number of rows, columns, and index of the active subplot (in that order). The [`figure()`](https://matplotlib.org/api/_as_gen/matplotlib.pyplot.figure.html) function is called with the \"figsize\" parameter so that we can have a larger figure to support having multiple subplots. (More details on figures and subplots are coming up next in the lesson.)"
   ]
  },
  {
   "cell_type": "markdown",
   "id": "9fd01323-ec94-415d-a191-8d562e32800d",
   "metadata": {},
   "source": [
    "#### Summary of Histograms\n",
    "In summary, if your exploration is only interested in the histogram-depiction of the data, and not the additional functionality offered by distplot, then you might be better off with just using Matplotlib's hist function for simplicity. On the other hand, if you want a quick start on choosing a representative bin size for histogram plotting, you might take a quick look at the basic distplot first before getting into the customization."
   ]
  },
  {
   "cell_type": "markdown",
   "id": "b08294fd-6666-48e8-a63b-f8d00697f862",
   "metadata": {},
   "source": [
    "# Figures, Axes, and Subplots"
   ]
  },
  {
   "cell_type": "code",
   "execution_count": 13,
   "id": "61f417da-6f41-478f-8a0c-8615b51705f2",
   "metadata": {},
   "outputs": [
    {
     "data": {
      "image/png": "[encoded data removed]",
      "text/plain": [
       "<Figure size 432x288 with 1 Axes>"
      ]
     },
     "metadata": {
      "needs_background": "light"
     },
     "output_type": "display_data"
    }
   ],
   "source": [
    "plt.hist(data=pokemon, x='speed');"
   ]
  },
  {
   "attachments": {
    "9fea7fa9-492f-4191-9adb-c74297919baa.png": {
     "image/png": "[encoded data removed]"
    }
   },
   "cell_type": "markdown",
   "id": "34fb1270-004a-479d-9822-abadd9d0eb0a",
   "metadata": {},
   "source": [
    "![matplotlib_graph_illustration.png](attachment:9fea7fa9-492f-4191-9adb-c74297919baa.png)Since we don't have a Figure area to plot inside, Python first creates a Figure object. And since the Figure doesn't start with any Axes to draw the histogram onto, an Axes object is created inside the Figure. Finally, the histogram is drawn within that Axes.\n",
    "\n",
    "![creating a matplotlib figure](../images/matplotlib_graph_illustration.png)"
   ]
  },
  {
   "cell_type": "markdown",
   "id": "bef7facc-3a91-4ba8-8801-46e9a588e82b",
   "metadata": {},
   "source": [
    "## Example 2. Demonstrate figure.add_axes() and axes.hist()"
   ]
  },
  {
   "cell_type": "code",
   "execution_count": 5,
   "id": "34027760-c0bb-4202-b8d9-2e07853c7fcb",
   "metadata": {},
   "outputs": [
    {
     "data": {
      "text/plain": [
       "(array([ 31.,  93., 163., 159., 128., 115.,  81.,  26.,   6.,   5.]),\n",
       " array([  5. ,  20.5,  36. ,  51.5,  67. ,  82.5,  98. , 113.5, 129. ,\n",
       "        144.5, 160. ]),\n",
       " <BarContainer object of 10 artists>)"
      ]
     },
     "execution_count": 5,
     "metadata": {},
     "output_type": "execute_result"
    },
    {
     "data": {
      "image/png": "[encoded data removed]",
      "text/plain": [
       "<Figure size 432x288 with 1 Axes>"
      ]
     },
     "metadata": {
      "needs_background": "light"
     },
     "output_type": "display_data"
    }
   ],
   "source": [
    "# Create a new figure\n",
    "fig = plt.figure()\n",
    "\n",
    "# The argument of add_axes represents the dimensions [left, bottom, width, height] of the new axes. \n",
    "# All quantities are in fractions of figure width and height.\n",
    "ax = fig.add_axes([.125, .125, .775, .775])\n",
    "ax.hist(data=pokemon, x='speed')"
   ]
  },
  {
   "cell_type": "markdown",
   "id": "2064cd9d-e9bc-475e-a9ae-eacbc32a5860",
   "metadata": {},
   "source": [
    "[figure()](https://matplotlib.org/stable/api/_as_gen/matplotlib.pyplot.figure.html) creates a new Figure object, a reference to which has been stored in the variable `fig`. One of the Figure methods is [.add_axes()](https://matplotlib.org/stable/api/_as_gen/matplotlib.figure.Figure.html#matplotlib.figure.Figure.add_axes), which creates a new Axes object in the Figure. The method requires one list as argument specifying the dimensions of the Axes: the first two elements of the list indicate the position of the lower-left hand corner of the Axes (in this case one quarter of the way from the lower-left corner of the Figure) and the last two elements specifying the Axes width and height, respectively. We refer to the Axes in the variable `ax`. Finally, we use the Axes method [.hist()](https://matplotlib.org/stable/api/_as_gen/matplotlib.axes.Axes.hist.html#matplotlib.axes.Axes.hist) just like we did before with `plt.hist()`."
   ]
  },
  {
   "cell_type": "markdown",
   "id": "1c3436f0-8d2e-4f06-bc0d-0a3333f97323",
   "metadata": {},
   "source": [
    "## Example 3. Use axes with seaborn.countplot()"
   ]
  },
  {
   "cell_type": "code",
   "execution_count": 8,
   "id": "1f565c4c-29db-440e-bb9a-c83fc4b121e9",
   "metadata": {},
   "outputs": [
    {
     "data": {
      "text/plain": [
       "<Axes:xlabel='generation_id', ylabel='count'>"
      ]
     },
     "execution_count": 8,
     "metadata": {},
     "output_type": "execute_result"
    },
    {
     "data": {
      "image/png": "[encoded data removed]",
      "text/plain": [
       "<Figure size 432x288 with 1 Axes>"
      ]
     },
     "metadata": {
      "needs_background": "light"
     },
     "output_type": "display_data"
    }
   ],
   "source": [
    "fig = plt.figure()\n",
    "ax = fig.add_axes([.125, .125, .775, .755])\n",
    "base_color = sns.color_palette()[0]\n",
    "sns.countplot(data = pokemon, x = 'generation_id', color = base_color, ax = ax)"
   ]
  },
  {
   "cell_type": "markdown",
   "id": "7d644719-1a11-4d28-8e47-2c1fc2216b85",
   "metadata": {},
   "source": [
    "## Example 3. Sub-plots"
   ]
  },
  {
   "cell_type": "code",
   "execution_count": 9,
   "id": "8f1564aa-75fd-4c38-9621-05602874096a",
   "metadata": {},
   "outputs": [
    {
     "data": {
      "image/png": "[encoded data removed]",
      "text/plain": [
       "<Figure size 1440x360 with 2 Axes>"
      ]
     },
     "metadata": {
      "needs_background": "light"
     },
     "output_type": "display_data"
    }
   ],
   "source": [
    "# Resize the chart, and have two plots side-by-side\n",
    "# set a larger figure size for subplots\n",
    "plt.figure(figsize = [20, 5]) \n",
    "\n",
    "# histogram on left, example of too-large bin size\n",
    "# 1 row, 2 cols, subplot 1\n",
    "plt.subplot(1, 2, 1) \n",
    "bins = np.arange(0, pokemon['speed'].max()+4, 4)\n",
    "plt.hist(data = pokemon, x = 'speed', bins = bins);\n",
    "\n",
    "# histogram on right, example of too-small bin size\n",
    "plt.subplot(1, 2, 2) # 1 row, 2 cols, subplot 2\n",
    "bins = np.arange(0, pokemon['speed'].max()+1/4, 1/4)\n",
    "plt.hist(data = pokemon, x = 'speed', bins = bins);"
   ]
  },
  {
   "cell_type": "markdown",
   "id": "1f7bd8c3-7006-4844-9ea8-a869f9f6856f",
   "metadata": {},
   "source": [
    "First of all, `plt.figure(figsize = [20, 5])` creates a new Figure, with the \"figsize\" argument setting the width and height of the overall figure to 20 inches by 5 inches, respectively. Even if we don't assign any variable to return the function's output, Python will still implicitly know that further plotting calls that need a Figure will refer to that Figure as the active one.\n",
    "\n",
    "Then, `plt.subplot(1, 2, 1)` creates a new Axes in our Figure, its size determined by the `subplot()` function arguments. The first two arguments says to divide the figure into one row and two columns, and the third argument says to create a new Axes in the first slot. Slots are numbered from left to right in rows from top to bottom. Note in particular that the index numbers start at 1 (rather than the usual Python indexing starting from 0). (You'll see the indexing a little better in the example at the end of the page.) Again, Python will implicitly set that Axes as the current Axes, so when the `plt.hist()` call comes, the histogram is plotted in the left-side subplot.\n",
    "\n",
    "Finally, `plt.subplot(1, 2, 2)` creates a new Axes in the second subplot slot, and sets that one as the current Axes. Thus, when the next `plt.hist()` call comes, the histogram gets drawn in the right-side subplot."
   ]
  },
  {
   "cell_type": "markdown",
   "id": "52dc7963-f3ac-4d1e-bbad-830ae8ca361a",
   "metadata": {},
   "source": [
    "## Additional Techniques"
   ]
  },
  {
   "cell_type": "markdown",
   "id": "2d3282a6-4d69-4d62-af0c-e6c9c1cdc244",
   "metadata": {},
   "source": [
    "If you don't assign Axes objects as they're created, you can retrieve the current Axes using [ax = plt.gca()](https://matplotlib.org/stable/api/_as_gen/matplotlib.pyplot.gca.html), or you can get a list of all Axes in a Figure `fig` by using axes = [fig.get_axes()](https://matplotlib.org/stable/api/_as_gen/matplotlib.figure.Figure.html#matplotlib.figure.Figure.get_axes). As for creating subplots, you can use [fig.add_subplot()](https://matplotlib.org/stable/api/_as_gen/matplotlib.figure.Figure.html#matplotlib.figure.Figure.add_subplot) in the same way as `plt.subplot()` above. If you already know that you're going to be creating a bunch of subplots, you can use the [plt.subplots()](https://matplotlib.org/stable/api/_as_gen/matplotlib.pyplot.subplots.html) function:"
   ]
  },
  {
   "cell_type": "markdown",
   "id": "51abd517-d413-45b3-81d0-662afa0742a5",
   "metadata": {},
   "source": [
    "## Example 4. Demonstrate pyplot.sca() and pyplot.text() to generate a grid of subplots"
   ]
  },
  {
   "cell_type": "code",
   "execution_count": 10,
   "id": "9004ca8b-4fad-4258-b4e9-10b30c7955b8",
   "metadata": {},
   "outputs": [
    {
     "data": {
      "image/png": "[encoded data removed]",
      "text/plain": [
       "<Figure size 432x288 with 12 Axes>"
      ]
     },
     "metadata": {
      "needs_background": "light"
     },
     "output_type": "display_data"
    }
   ],
   "source": [
    "fig, axes = plt.subplots(3, 4) # grid of 3x4 subplots\n",
    "axes = axes.flatten() # reshape from 3x4 array into 12-element vector\n",
    "for i in range(12):\n",
    "    plt.sca(axes[i]) # set the current Axes\n",
    "    plt.text(0.5, 0.5, i+1) # print conventional subplot index number to middle of Axes"
   ]
  },
  {
   "cell_type": "markdown",
   "id": "5b94d578-1c07-4433-956b-f68ad8007d6a",
   "metadata": {},
   "source": [
    "As a special note for the text, the Axes limits are [0,1] on each Axes by default, and we increment the iterator counter `i` by 1 to get the subplot index, if we were creating the subplots through `subplot()`. (Reference: [plt.sca()](https://matplotlib.org/stable/api/_as_gen/matplotlib.pyplot.sca.html), [plt.text()](https://matplotlib.org/stable/api/_as_gen/matplotlib.pyplot.text.html))"
   ]
  },
  {
   "cell_type": "code",
   "execution_count": null,
   "id": "963286a4-0228-4782-8a3d-e9dbcdd8bc02",
   "metadata": {},
   "outputs": [],
   "source": []
  }
 ],
 "metadata": {
  "kernelspec": {
   "display_name": "Python 3 (ipykernel)",
   "language": "python",
   "name": "python3"
  },
  "language_info": {
   "codemirror_mode": {
    "name": "ipython",
    "version": 3
   },
   "file_extension": ".py",
   "mimetype": "text/x-python",
   "name": "python",
   "nbconvert_exporter": "python",
   "pygments_lexer": "ipython3",
   "version": "3.9.12"
  }
 },
 "nbformat": 4,
 "nbformat_minor": 5
}
